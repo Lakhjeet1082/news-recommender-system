{
 "cells": [
  {
   "cell_type": "code",
   "execution_count": 19,
   "metadata": {},
   "outputs": [],
   "source": [
    "import pandas as pd\n",
    "from sklearn.preprocessing import MinMaxScaler\n"
   ]
  },
  {
   "cell_type": "code",
   "execution_count": 20,
   "metadata": {},
   "outputs": [
    {
     "name": "stdout",
     "output_type": "stream",
     "text": [
      "User-Item Matrix:\n",
      "ArticleId_served  1     2     4     5         6     9     10    11    12    \\\n",
      "UserId                                                                       \n",
      "996                0.0   0.0   0.0   0.0  0.000000   0.0   0.0   0.0   0.0   \n",
      "997                0.0   0.0   0.0   0.0  0.146667   0.0   0.0   0.0   0.0   \n",
      "998                0.0   0.0   0.0   0.0  0.000000   0.0   0.0   0.0   0.0   \n",
      "999                0.0   0.0   0.0   0.0  0.000000   0.0   0.0   0.0   0.0   \n",
      "1000               0.0   0.0   0.0   0.0  0.000000   0.0   0.0   0.0   0.0   \n",
      "\n",
      "ArticleId_served  14    ...  2889  2890  2892  2893  2894  2895  2896  2897  \\\n",
      "UserId                  ...                                                   \n",
      "996                0.0  ...   0.0   0.0   0.0   0.0   0.0   0.0   0.0   0.0   \n",
      "997                0.0  ...   0.0   0.0   0.0   0.0   0.0   0.0   0.0   0.0   \n",
      "998                0.0  ...   0.0   0.0   0.0   0.0   0.0   0.0   0.0   0.0   \n",
      "999                0.0  ...   0.0   0.0   0.0   0.0   0.0   0.0   0.0   0.0   \n",
      "1000               0.0  ...   0.0   0.0   0.0   0.0   0.0   0.0   0.0   0.0   \n",
      "\n",
      "ArticleId_served  2898  2899  \n",
      "UserId                        \n",
      "996                0.0   0.0  \n",
      "997                0.0   0.0  \n",
      "998                0.0   0.0  \n",
      "999                0.0   0.0  \n",
      "1000               0.0   0.0  \n",
      "\n",
      "[5 rows x 2440 columns]\n"
     ]
    }
   ],
   "source": [
    "scaler = MinMaxScaler()\n",
    "clickstream_data['Time_Spent_Normalized'] = scaler.fit_transform(clickstream_data[['Time_Spent']])\n",
    "\n",
    "# Create user-item matrix\n",
    "user_item_matrix = pd.pivot_table(clickstream_data, index='UserId', columns='ArticleId_served', values='Time_Spent_Normalized', aggfunc='mean', fill_value=0)\n",
    "\n",
    "# Display user-item matrix\n",
    "print(\"User-Item Matrix:\")\n",
    "print(user_item_matrix.tail())"
   ]
  },
  {
   "cell_type": "markdown",
   "metadata": {},
   "source": [
    "Item based collaborative filtering"
   ]
  },
  {
   "cell_type": "code",
   "execution_count": 21,
   "metadata": {},
   "outputs": [
    {
     "name": "stdout",
     "output_type": "stream",
     "text": [
      "Item-Item Similarity Matrix:\n",
      "ArticleId_served  1     2     4         5     6     9     10    11    12    \\\n",
      "ArticleId_served                                                             \n",
      "1                  1.0   0.0   0.0  0.000000   0.0   0.0   0.0   0.0   0.0   \n",
      "2                  0.0   1.0   0.0  0.000000   0.0   0.0   0.0   0.0   0.0   \n",
      "4                  0.0   0.0   1.0  0.000000   0.0   0.0   0.0   0.0   0.0   \n",
      "5                  0.0   0.0   0.0  1.000000   0.0   0.0   0.0   0.0   0.0   \n",
      "6                  0.0   0.0   0.0  0.000000   1.0   0.0   0.0   0.0   0.0   \n",
      "...                ...   ...   ...       ...   ...   ...   ...   ...   ...   \n",
      "2895               0.0   0.0   0.0  0.000000   0.0   0.0   0.0   0.0   0.0   \n",
      "2896               0.0   0.0   0.0  0.002486   0.0   0.0   0.0   0.0   0.0   \n",
      "2897               0.0   0.0   0.0  0.000000   0.0   0.0   0.0   0.0   0.0   \n",
      "2898               0.0   0.0   0.0  0.308143   0.0   0.0   0.0   0.0   0.0   \n",
      "2899               0.0   0.0   0.0  0.000000   0.0   0.0   0.0   0.0   0.0   \n",
      "\n",
      "ArticleId_served  14    ...  2889  2890  2892  2893  2894  2895      2896  \\\n",
      "ArticleId_served        ...                                                 \n",
      "1                  0.0  ...   0.0   0.0   0.0   0.0   0.0   0.0  0.000000   \n",
      "2                  0.0  ...   0.0   0.0   0.0   0.0   0.0   0.0  0.000000   \n",
      "4                  0.0  ...   0.0   0.0   0.0   0.0   0.0   0.0  0.000000   \n",
      "5                  0.0  ...   0.0   0.0   0.0   0.0   0.0   0.0  0.002486   \n",
      "6                  0.0  ...   0.0   0.0   0.0   0.0   0.0   0.0  0.000000   \n",
      "...                ...  ...   ...   ...   ...   ...   ...   ...       ...   \n",
      "2895               0.0  ...   0.0   0.0   0.0   0.0   0.0   1.0  0.000000   \n",
      "2896               0.0  ...   0.0   0.0   0.0   0.0   0.0   0.0  1.000000   \n",
      "2897               0.0  ...   0.0   0.0   0.0   0.0   0.0   0.0  0.000000   \n",
      "2898               0.0  ...   0.0   0.0   0.0   0.0   0.0   0.0  0.000000   \n",
      "2899               0.0  ...   0.0   0.0   0.0   0.0   0.0   0.0  0.000000   \n",
      "\n",
      "ArticleId_served  2897      2898  2899  \n",
      "ArticleId_served                        \n",
      "1                  0.0  0.000000   0.0  \n",
      "2                  0.0  0.000000   0.0  \n",
      "4                  0.0  0.000000   0.0  \n",
      "5                  0.0  0.308143   0.0  \n",
      "6                  0.0  0.000000   0.0  \n",
      "...                ...       ...   ...  \n",
      "2895               0.0  0.000000   0.0  \n",
      "2896               0.0  0.000000   0.0  \n",
      "2897               1.0  0.000000   0.0  \n",
      "2898               0.0  1.000000   0.0  \n",
      "2899               0.0  0.000000   1.0  \n",
      "\n",
      "[2440 rows x 2440 columns]\n"
     ]
    }
   ],
   "source": [
    "from sklearn.metrics.pairwise import cosine_similarity\n",
    "\n",
    "item_similarity_matrix = cosine_similarity(user_item_matrix.T)\n",
    "item_similarity_df = pd.DataFrame(item_similarity_matrix, index=user_item_matrix.columns, columns=user_item_matrix.columns)\n",
    "\n",
    "print(\"Item-Item Similarity Matrix:\")\n",
    "print(item_similarity_df)\n"
   ]
  },
  {
   "cell_type": "code",
   "execution_count": 22,
   "metadata": {},
   "outputs": [
    {
     "name": "stdout",
     "output_type": "stream",
     "text": [
      "Top recommendations for user 1:\n",
      "ArticleId_served\n",
      "315     0.946667\n",
      "501     0.946667\n",
      "1251    0.946667\n",
      "1497    0.946667\n",
      "1596    0.946667\n",
      "2297    0.946667\n",
      "2662    0.946667\n",
      "2727    0.946667\n",
      "81      0.946667\n",
      "142     0.946667\n",
      "dtype: float64\n"
     ]
    }
   ],
   "source": [
    "def get_item_based_recommendations(user_id, user_item_matrix, item_similarity_df, num_recommendations=10):\n",
    "    user_interactions = user_item_matrix.loc[user_id]\n",
    "    user_interactions = user_interactions[user_interactions > 0]\n",
    "    \n",
    "    # Compute the weighted sum of item similarities\n",
    "    scores = item_similarity_df[user_interactions.index].dot(user_interactions).div(item_similarity_df[user_interactions.index].sum(axis=1))\n",
    "    \n",
    "    # Exclude items the user has already interacted with\n",
    "    scores = scores[~scores.index.isin(user_interactions.index)]\n",
    "    \n",
    "    # Get top recommendations\n",
    "    top_recommendations = scores.nlargest(num_recommendations)\n",
    "    \n",
    "    return top_recommendations\n",
    "\n",
    "# Example usage\n",
    "user_id = 1  # Example user ID\n",
    "recommendations = get_item_based_recommendations(user_id, user_item_matrix, item_similarity_df)\n",
    "print(f\"Top recommendations for user {user_id}:\")\n",
    "print(recommendations)\n"
   ]
  },
  {
   "cell_type": "markdown",
   "metadata": {},
   "source": [
    "User Based Collaborative filtering"
   ]
  },
  {
   "cell_type": "code",
   "execution_count": 23,
   "metadata": {},
   "outputs": [
    {
     "name": "stdout",
     "output_type": "stream",
     "text": [
      "User Similarity Matrix:\n",
      "UserId      1     2         3     4         5         6         7     8     \\\n",
      "UserId                                                                       \n",
      "1       1.000000   0.0  0.020947   0.0  0.000000  0.000000  0.000000   0.0   \n",
      "2       0.000000   1.0  0.000000   0.0  0.000000  0.000000  0.000000   0.0   \n",
      "3       0.020947   0.0  1.000000   0.0  0.000000  0.000000  0.000000   0.0   \n",
      "4       0.000000   0.0  0.000000   1.0  0.000000  0.000000  0.000000   0.0   \n",
      "5       0.000000   0.0  0.000000   0.0  1.000000  0.014815  0.016729   0.0   \n",
      "...          ...   ...       ...   ...       ...       ...       ...   ...   \n",
      "996     0.000000   0.0  0.002325   0.0  0.000000  0.000000  0.000000   0.0   \n",
      "997     0.000000   0.0  0.000000   0.0  0.000000  0.000000  0.000000   0.0   \n",
      "998     0.019667   0.0  0.000000   0.0  0.000000  0.000000  0.000000   0.0   \n",
      "999     0.000000   0.0  0.004259   0.0  0.020753  0.000000  0.000000   0.0   \n",
      "1000    0.000000   0.0  0.000000   0.0  0.000000  0.000000  0.000000   0.0   \n",
      "\n",
      "UserId      9         10    ...      991   992   993   994   995       996   \\\n",
      "UserId                      ...                                               \n",
      "1       0.000000  0.000000  ...  0.000000   0.0   0.0   0.0   0.0  0.000000   \n",
      "2       0.000000  0.000000  ...  0.000000   0.0   0.0   0.0   0.0  0.000000   \n",
      "3       0.000000  0.000000  ...  0.000000   0.0   0.0   0.0   0.0  0.002325   \n",
      "4       0.163242  0.000000  ...  0.099534   0.0   0.0   0.0   0.0  0.000000   \n",
      "5       0.000000  0.000000  ...  0.000000   0.0   0.0   0.0   0.0  0.000000   \n",
      "...          ...       ...  ...       ...   ...   ...   ...   ...       ...   \n",
      "996     0.000000  0.000000  ...  0.000000   0.0   0.0   0.0   0.0  1.000000   \n",
      "997     0.000000  0.000000  ...  0.000000   0.0   0.0   0.0   0.0  0.000000   \n",
      "998     0.000000  0.000000  ...  0.000000   0.0   0.0   0.0   0.0  0.000000   \n",
      "999     0.000000  0.102924  ...  0.000000   0.0   0.0   0.0   0.0  0.000000   \n",
      "1000    0.000000  0.000000  ...  0.000000   0.0   0.0   0.0   0.0  0.000000   \n",
      "\n",
      "UserId  997       998       999       1000  \n",
      "UserId                                      \n",
      "1        0.0  0.019667  0.000000  0.000000  \n",
      "2        0.0  0.000000  0.000000  0.000000  \n",
      "3        0.0  0.000000  0.004259  0.000000  \n",
      "4        0.0  0.000000  0.000000  0.000000  \n",
      "5        0.0  0.000000  0.020753  0.000000  \n",
      "...      ...       ...       ...       ...  \n",
      "996      0.0  0.000000  0.000000  0.000000  \n",
      "997      1.0  0.000000  0.000000  0.000000  \n",
      "998      0.0  1.000000  0.000000  0.000000  \n",
      "999      0.0  0.000000  1.000000  0.046225  \n",
      "1000     0.0  0.000000  0.046225  1.000000  \n",
      "\n",
      "[1000 rows x 1000 columns]\n"
     ]
    }
   ],
   "source": [
    "user_similarity_matrix = cosine_similarity(user_item_matrix)\n",
    "user_similarity_df = pd.DataFrame(user_similarity_matrix, index=user_item_matrix.index, columns=user_item_matrix.index)\n",
    "\n",
    "print(\"User Similarity Matrix:\")\n",
    "print(user_similarity_df)\n"
   ]
  },
  {
   "cell_type": "code",
   "execution_count": 24,
   "metadata": {},
   "outputs": [
    {
     "name": "stdout",
     "output_type": "stream",
     "text": [
      "Top recommendations for user 1:\n",
      "ArticleId_served\n",
      "2048    0.035003\n",
      "2675    0.031331\n",
      "547     0.029615\n",
      "2024    0.028241\n",
      "1672    0.027955\n",
      "2558    0.027404\n",
      "1362    0.026210\n",
      "1403    0.025366\n",
      "1873    0.025112\n",
      "1592    0.024888\n",
      "dtype: float64\n"
     ]
    }
   ],
   "source": [
    "def get_user_based_recommendations(user_id, user_item_matrix, user_similarity_df, num_recommendations=10):\n",
    "    # Get the similarities for the given user\n",
    "    user_similarities = user_similarity_df[user_id]\n",
    "    \n",
    "    # Find similar users\n",
    "    similar_users = user_similarities.sort_values(ascending=False).index[1:]  # Exclude the user itself\n",
    "    \n",
    "    # Compute weighted sum of item scores\n",
    "    user_interactions = user_item_matrix.loc[similar_users].T.dot(user_similarities[similar_users])\n",
    "    \n",
    "    # Normalize by the sum of similarities\n",
    "    user_interactions /= user_similarities[similar_users].sum()\n",
    "    \n",
    "    # Exclude items the user has already interacted with\n",
    "    user_interactions = user_interactions[~user_interactions.index.isin(user_item_matrix.loc[user_id].index[user_item_matrix.loc[user_id] > 0])]\n",
    "    \n",
    "    # Get top recommendations\n",
    "    top_recommendations = user_interactions.nlargest(num_recommendations)\n",
    "    \n",
    "    return top_recommendations\n",
    "\n",
    "user_id = 1  \n",
    "recommendations = get_user_based_recommendations(user_id, user_item_matrix, user_similarity_df)\n",
    "print(f\"Top recommendations for user {user_id}:\")\n",
    "print(recommendations)\n"
   ]
  }
 ],
 "metadata": {
  "kernelspec": {
   "display_name": "base",
   "language": "python",
   "name": "python3"
  },
  "language_info": {
   "codemirror_mode": {
    "name": "ipython",
    "version": 3
   },
   "file_extension": ".py",
   "mimetype": "text/x-python",
   "name": "python",
   "nbconvert_exporter": "python",
   "pygments_lexer": "ipython3",
   "version": "3.11.7"
  }
 },
 "nbformat": 4,
 "nbformat_minor": 2
}
